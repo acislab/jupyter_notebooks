{
 "cells": [
  {
   "cell_type": "markdown",
   "metadata": {},
   "source": [
    "### Giving Keras a try, this code is based on the example from the lead Keras developer [here](https://blog.keras.io/building-powerful-image-classification-models-using-very-little-data.html)"
   ]
  },
  {
   "cell_type": "code",
   "execution_count": 1,
   "metadata": {
    "collapsed": false
   },
   "outputs": [
    {
     "name": "stderr",
     "output_type": "stream",
     "text": [
      "Using TensorFlow backend.\n"
     ]
    }
   ],
   "source": [
    "import h5py\n",
    "from keras.preprocessing.image import ImageDataGenerator\n",
    "from keras.models import Sequential\n",
    "from keras.layers import Conv2D, MaxPooling2D\n",
    "from keras.layers import Activation, Dropout, Flatten, Dense\n",
    "from keras import backend as K"
   ]
  },
  {
   "cell_type": "markdown",
   "metadata": {},
   "source": [
    "The images have already been split into subdirectories for training/validation/testing. 70% in train, 20% in validation, 10% in test"
   ]
  },
  {
   "cell_type": "code",
   "execution_count": 2,
   "metadata": {
    "collapsed": true
   },
   "outputs": [],
   "source": [
    "width, height = 256, 256"
   ]
  },
  {
   "cell_type": "markdown",
   "metadata": {},
   "source": [
    "Epochs and batch sizes can be messed around with and can make relatively big difference in the model"
   ]
  },
  {
   "cell_type": "code",
   "execution_count": 3,
   "metadata": {
    "collapsed": true
   },
   "outputs": [],
   "source": [
    "train_data_dir = 'train'\n",
    "validation_data_dir = 'validation'\n",
    "nb_train_samples = 280\n",
    "nb_validation_samples = 80\n",
    "epochs = 25\n",
    "batch_size = 16"
   ]
  },
  {
   "cell_type": "code",
   "execution_count": 4,
   "metadata": {
    "collapsed": true
   },
   "outputs": [],
   "source": [
    "if K.image_data_format() == 'channels_first':\n",
    "    input_shape = (3, width, height)\n",
    "else:\n",
    "    input_shape = (width, height, 3)"
   ]
  },
  {
   "cell_type": "code",
   "execution_count": 5,
   "metadata": {
    "collapsed": true
   },
   "outputs": [],
   "source": [
    "model = Sequential()\n",
    "model.add(Conv2D(32, (3, 3), input_shape=input_shape))\n",
    "model.add(Activation('relu'))\n",
    "model.add(MaxPooling2D(pool_size=(2, 2)))\n",
    "\n",
    "model.add(Conv2D(32, (3, 3)))\n",
    "model.add(Activation('relu'))\n",
    "model.add(MaxPooling2D(pool_size=(2, 2)))\n",
    "\n",
    "model.add(Conv2D(64, (3, 3)))\n",
    "model.add(Activation('relu'))\n",
    "model.add(MaxPooling2D(pool_size=(2, 2)))\n",
    "\n",
    "model.add(Flatten())\n",
    "model.add(Dense(64))\n",
    "model.add(Activation('relu'))\n",
    "model.add(Dropout(0.5))\n",
    "model.add(Dense(1))\n",
    "model.add(Activation('sigmoid'))\n",
    "\n",
    "model.compile(loss='binary_crossentropy',\n",
    "              optimizer='rmsprop',\n",
    "              metrics=['accuracy'])"
   ]
  },
  {
   "cell_type": "code",
   "execution_count": 18,
   "metadata": {
    "collapsed": false
   },
   "outputs": [],
   "source": [
    "train_datagen = ImageDataGenerator(\n",
    "    #shear_range=0.2,\n",
    "    #zoom_range=0.2,\n",
    "    #horizontal_flip=True\n",
    ")"
   ]
  },
  {
   "cell_type": "code",
   "execution_count": 19,
   "metadata": {
    "collapsed": true
   },
   "outputs": [],
   "source": [
    "validation_datagen = ImageDataGenerator()"
   ]
  },
  {
   "cell_type": "code",
   "execution_count": 20,
   "metadata": {
    "collapsed": false
   },
   "outputs": [
    {
     "name": "stdout",
     "output_type": "stream",
     "text": [
      "Found 280 images belonging to 2 classes.\n"
     ]
    }
   ],
   "source": [
    "train_generator = train_datagen.flow_from_directory(\n",
    "    train_data_dir,\n",
    "    target_size=(img_width, img_height),\n",
    "    batch_size=batch_size,\n",
    "    class_mode='binary')"
   ]
  },
  {
   "cell_type": "code",
   "execution_count": 21,
   "metadata": {
    "collapsed": false
   },
   "outputs": [
    {
     "name": "stdout",
     "output_type": "stream",
     "text": [
      "Found 80 images belonging to 2 classes.\n"
     ]
    }
   ],
   "source": [
    "validation_generator = validation_datagen.flow_from_directory(\n",
    "    validation_data_dir,\n",
    "    target_size=(img_width, img_height),\n",
    "    batch_size=batch_size,\n",
    "    class_mode='binary')"
   ]
  },
  {
   "cell_type": "markdown",
   "metadata": {},
   "source": [
    "This is where the magic happens. As you can see from the accuracy here, it is far from magic, i.e. this model doesn't work. But it's a start!"
   ]
  },
  {
   "cell_type": "code",
   "execution_count": 22,
   "metadata": {
    "collapsed": false
   },
   "outputs": [
    {
     "name": "stdout",
     "output_type": "stream",
     "text": [
      "Epoch 1/25\n",
      "17/17 [==============================] - 1s - loss: 0.8283 - acc: 0.4485 - val_loss: 0.6932 - val_acc: 0.5000\n",
      "Epoch 2/25\n",
      "17/17 [==============================] - 1s - loss: 0.6940 - acc: 0.4560 - val_loss: 0.6932 - val_acc: 0.4375\n",
      "Epoch 3/25\n",
      "17/17 [==============================] - 1s - loss: 0.6937 - acc: 0.4489 - val_loss: 0.6931 - val_acc: 0.5875\n",
      "Epoch 4/25\n",
      "17/17 [==============================] - 1s - loss: 0.6932 - acc: 0.5031 - val_loss: 0.6930 - val_acc: 0.5500\n",
      "Epoch 5/25\n",
      "17/17 [==============================] - 1s - loss: 0.8822 - acc: 0.4892 - val_loss: 0.6935 - val_acc: 0.5000\n",
      "Epoch 6/25\n",
      "17/17 [==============================] - 1s - loss: 0.6941 - acc: 0.4926 - val_loss: 0.6933 - val_acc: 0.5125\n",
      "Epoch 7/25\n",
      "17/17 [==============================] - 1s - loss: 0.6935 - acc: 0.4740 - val_loss: 0.6932 - val_acc: 0.4875\n",
      "Epoch 8/25\n",
      "17/17 [==============================] - 1s - loss: 0.6944 - acc: 0.5035 - val_loss: 0.6931 - val_acc: 0.5250\n",
      "Epoch 9/25\n",
      "17/17 [==============================] - 1s - loss: 0.7007 - acc: 0.5331 - val_loss: 0.6931 - val_acc: 0.5000\n",
      "Epoch 10/25\n",
      "17/17 [==============================] - 1s - loss: 0.6926 - acc: 0.5149 - val_loss: 0.6933 - val_acc: 0.5000\n",
      "Epoch 11/25\n",
      "17/17 [==============================] - 1s - loss: 0.6935 - acc: 0.4562 - val_loss: 0.6930 - val_acc: 0.5500\n",
      "Epoch 12/25\n",
      "17/17 [==============================] - 1s - loss: 0.6968 - acc: 0.5370 - val_loss: 0.6931 - val_acc: 0.5000\n",
      "Epoch 13/25\n",
      "17/17 [==============================] - 1s - loss: 0.6941 - acc: 0.4967 - val_loss: 0.6931 - val_acc: 0.5000\n",
      "Epoch 14/25\n",
      "17/17 [==============================] - 1s - loss: 0.6940 - acc: 0.4814 - val_loss: 0.6932 - val_acc: 0.4875\n",
      "Epoch 15/25\n",
      "17/17 [==============================] - 1s - loss: 0.6933 - acc: 0.4484 - val_loss: 0.6931 - val_acc: 0.5000\n",
      "Epoch 16/25\n",
      "17/17 [==============================] - 1s - loss: 0.6929 - acc: 0.5440 - val_loss: 0.6932 - val_acc: 0.4250\n",
      "Epoch 17/25\n",
      "17/17 [==============================] - 1s - loss: 0.6935 - acc: 0.3977 - val_loss: 0.6930 - val_acc: 0.5375\n",
      "Epoch 18/25\n",
      "17/17 [==============================] - 1s - loss: 0.6933 - acc: 0.5037 - val_loss: 0.6932 - val_acc: 0.4750\n",
      "Epoch 19/25\n",
      "17/17 [==============================] - 1s - loss: 0.6933 - acc: 0.4412 - val_loss: 0.6932 - val_acc: 0.4750\n",
      "Epoch 20/25\n",
      "17/17 [==============================] - 1s - loss: 0.6932 - acc: 0.4892 - val_loss: 0.6931 - val_acc: 0.5000\n",
      "Epoch 21/25\n",
      "17/17 [==============================] - 1s - loss: 0.6932 - acc: 0.4894 - val_loss: 0.6931 - val_acc: 0.5000\n",
      "Epoch 22/25\n",
      "17/17 [==============================] - 1s - loss: 0.6933 - acc: 0.4599 - val_loss: 0.6931 - val_acc: 0.5125\n",
      "Epoch 23/25\n",
      "17/17 [==============================] - 1s - loss: 0.6933 - acc: 0.4781 - val_loss: 0.6932 - val_acc: 0.4375\n",
      "Epoch 24/25\n",
      "17/17 [==============================] - 1s - loss: 0.6933 - acc: 0.4519 - val_loss: 0.6932 - val_acc: 0.4875\n",
      "Epoch 25/25\n",
      "17/17 [==============================] - 1s - loss: 0.6933 - acc: 0.4779 - val_loss: 0.6932 - val_acc: 0.4625\n"
     ]
    },
    {
     "data": {
      "text/plain": [
       "<keras.callbacks.History at 0x11b4b7a90>"
      ]
     },
     "execution_count": 22,
     "metadata": {},
     "output_type": "execute_result"
    }
   ],
   "source": [
    "model.fit_generator(\n",
    "    train_generator,\n",
    "    steps_per_epoch=nb_train_samples // batch_size,\n",
    "    epochs=epochs,\n",
    "    validation_data=validation_generator,\n",
    "    validation_steps=nb_validation_samples // batch_size)"
   ]
  },
  {
   "cell_type": "code",
   "execution_count": 23,
   "metadata": {
    "collapsed": false
   },
   "outputs": [],
   "source": [
    "model.save_weights('first_try.h5')"
   ]
  }
 ],
 "metadata": {
  "kernelspec": {
   "display_name": "Python 3",
   "language": "python",
   "name": "python3"
  },
  "language_info": {
   "codemirror_mode": {
    "name": "ipython",
    "version": 3
   },
   "file_extension": ".py",
   "mimetype": "text/x-python",
   "name": "python",
   "nbconvert_exporter": "python",
   "pygments_lexer": "ipython3",
   "version": "3.5.1"
  }
 },
 "nbformat": 4,
 "nbformat_minor": 2
}
